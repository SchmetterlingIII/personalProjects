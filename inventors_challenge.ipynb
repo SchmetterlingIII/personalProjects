{
 "cells": [
  {
   "cell_type": "markdown",
   "metadata": {},
   "source": [
    "#Davidson's Inventors Challenge\n",
    "For this chemical engineering competition, we have chosen to design a filter for a waste incineration plant. \n",
    "\n",
    "In order to have this system be verified by a systems/chemical engineer on the plant, a gas sensor should be in place to alert the managers that the filter has been fully saturated with gases and needs replacing **and**, as each filter may be replaced and regenerated over many cycles, be able to determine when to just throw the filter away (due to more physical defects in the filter, rather than a more chemical issue).\n",
    "\n",
    "Success in coding this out (although likely producing a simplistic model) could be further iterated on, (hopefully) without the cost of existing FTIR machines."
   ]
  },
  {
   "cell_type": "markdown",
   "metadata": {},
   "source": []
  }
 ],
 "metadata": {
  "language_info": {
   "name": "python"
  }
 },
 "nbformat": 4,
 "nbformat_minor": 2
}
