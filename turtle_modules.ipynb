{
 "cells": [
  {
   "cell_type": "markdown",
   "metadata": {},
   "source": [
    "Currently learning + experimenting with the turtle modules in python since I cannot use anything else. This will map my progress for computational physics in the future, but currently just learning stuff for now. "
   ]
  },
  {
   "cell_type": "markdown",
   "metadata": {},
   "source": [
    "###Simple Spirograph \n",
    "Followed a tutorial."
   ]
  },
  {
   "cell_type": "code",
   "execution_count": null,
   "metadata": {},
   "outputs": [],
   "source": [
    "import turtle\n",
    "def spirograph():\n",
    "    try:\n",
    "        degrees = int(input(\"Degrees: \"))\n",
    "        turtle.bgcolor('black')\n",
    "        t = turtle.Turtle()\n",
    "        colors = ['red', 'dark red']\n",
    "        for number in range(300):\n",
    "            t.forward(number+1)\n",
    "            t.right(degrees)\n",
    "            t.pencolor(colors[number%2])\n",
    "        turtle.done()\n",
    "    except ValueError:\n",
    "        print(\"Enter an integer\")\n",
    "        \n",
    "\n"
   ]
  },
  {
   "cell_type": "markdown",
   "metadata": {},
   "source": [
    "###Boid Simulation\n",
    "Edited my initial boid simulation (there lacks the cohesion, separation and alignment aspects currently) such that in runs with the turtle module and not the pygame module."
   ]
  },
  {
   "cell_type": "code",
   "execution_count": null,
   "metadata": {},
   "outputs": [],
   "source": [
    "import turtle\n",
    "import random\n",
    "\n",
    "#screen setup\n",
    "window = turtle.Screen()\n",
    "window.setup(width= 1000, height= 800)\n",
    "window.bgcolor(\"black\")\n",
    "window.tracer(0)\n",
    "\n",
    "class Boid:\n",
    "    def __init__(self, x, y):\n",
    "        self.turtle = turtle.Turtle()  # assign to an attribute!\n",
    "        self.turtle.shape(\"circle\")\n",
    "        self.turtle.color(\"white\")\n",
    "        self.turtle.penup()\n",
    "        self.turtle.speed(0)\n",
    "        self.turtle.setposition(x, y)\n",
    "        # Random initial velocities\n",
    "        self.vx = random.uniform(-4, 4)\n",
    "        self.vy = random.uniform(-4, 4)\n",
    "    \n",
    "    def update_position(self):\n",
    "        x, y = self.turtle.position()  # use the turtle attribute\n",
    "        x += self.vx\n",
    "        y += self.vy\n",
    "        # Bounce off the edges\n",
    "        if x < -500 or x > 500:\n",
    "            self.vx *= -1\n",
    "        if y < -400 or y > 400:\n",
    "            self.vy *= -1\n",
    "        self.turtle.setposition(x, y)\n",
    "\n",
    "boids = [Boid(random.uniform(-500, 500), random.uniform(-400, 400)) for _ in range(50)]\n",
    "\n",
    "def update():\n",
    "    for boid in boids:\n",
    "        boid.update_position()\n",
    "    window.update()\n",
    "    window.ontimer(update, 20)  # schedule next update in 20 ms\n",
    "\n",
    "update()  # start the update cycle\n",
    "turtle.done()\n",
    "\n"
   ]
  },
  {
   "cell_type": "markdown",
   "metadata": {},
   "source": [
    "###Ball Collision\n",
    "Currently writing a very basic ball collision program that will progressively become more realistic."
   ]
  },
  {
   "cell_type": "code",
   "execution_count": null,
   "metadata": {},
   "outputs": [],
   "source": [
    "import turtle\n",
    "\n",
    "#setup of screen\n",
    "window = turtle.Screen()\n",
    "window.setup(width= 1000, height= 800)\n",
    "window.bgcolor(\"black\")\n",
    "window.tracer(0)\t# automatically turns everything off for each frame\n",
    "                    # later, using window.update(), it turns back on with the updated inputs\n",
    "\n",
    "\n",
    "'''Initialise the ball:\n",
    "    - initial position, velocity and acceleration (0)\n",
    "    - update the position and velocity of the ball with recurrence relationships:\n",
    "        - p1 = p0 + v*dt, t = 1/fps (how is the fps defined in this instant)\n",
    "        '''\n",
    "\n",
    "#defining FPS\n",
    "fps = 60\n",
    "delay = int(1000/fps)\n",
    "window.update()\n",
    "window.ontimer(update, delay) #here would be delay in ms\n"
   ]
  }
 ],
 "metadata": {
  "language_info": {
   "name": "python"
  }
 },
 "nbformat": 4,
 "nbformat_minor": 2
}
